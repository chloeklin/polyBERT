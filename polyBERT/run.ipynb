{
 "cells": [
  {
   "cell_type": "code",
   "execution_count": 1,
   "metadata": {},
   "outputs": [
    {
     "name": "stderr",
     "output_type": "stream",
     "text": [
      "/scratch/hm62/hl4138/polybert-venv/lib/python3.9/site-packages/tqdm/auto.py:21: TqdmWarning: IProgress not found. Please update jupyter and ipywidgets. See https://ipywidgets.readthedocs.io/en/stable/user_install.html\n",
      "  from .autonotebook import tqdm as notebook_tqdm\n"
     ]
    }
   ],
   "source": [
    "import os\n",
    "import torch\n",
    "import random\n",
    "from transformers import AutoTokenizer, AutoModel, AutoModelForMaskedLM, DebertaV2ForMaskedLM, DebertaV2Tokenizer\n",
    "from sklearn.metrics import f1_score\n",
    "os.chdir(\"/scratch/hm62/hl4138/polyBERT/polyBERT/\")"
   ]
  },
  {
   "cell_type": "code",
   "execution_count": 2,
   "metadata": {},
   "outputs": [],
   "source": [
    "def create_masked_test_set(tokenizer, sentences, mask_prob=0.15):\n",
    "    masked_sentences = []\n",
    "    ground_truth = []\n",
    "\n",
    "    for sentence in sentences:\n",
    "        tokenized_input = tokenizer.tokenize(sentence)\n",
    "        masked_sentence = tokenized_input.copy()  # Copy of tokenized sentence\n",
    "        ground_truth_sentence = []\n",
    "\n",
    "        for i, token in enumerate(tokenized_input):\n",
    "            if random.random() < mask_prob:  # Mask with a certain probability (e.g., 15%)\n",
    "                ground_truth.append(token)  # Store original token\n",
    "                masked_sentence[i] = tokenizer.mask_token  # Replace with [MASK]\n",
    "\n",
    "        masked_sentences.append(tokenizer.convert_tokens_to_string(masked_sentence))\n",
    "        # ground_truth.append(ground_truth_sentence)\n",
    "\n",
    "    return masked_sentences, ground_truth"
   ]
  },
  {
   "cell_type": "code",
   "execution_count": 3,
   "metadata": {},
   "outputs": [],
   "source": [
    "# Check GPU availability\n",
    "device = torch.device('cuda' if torch.cuda.is_available() else 'cpu')\n",
    "\n",
    "# Load test dataset\n",
    "file_path = 'data/generated_polymer_smiles_dev.txt'\n",
    "\n",
    "with open(file_path, 'r') as file:\n",
    "    psmiles_strings = [line.strip() for line in file]\n",
    "\n",
    "psmiles_strings = psmiles_strings[:100] #try 100 strings"
   ]
  },
  {
   "cell_type": "code",
   "execution_count": 4,
   "metadata": {},
   "outputs": [
    {
     "name": "stderr",
     "output_type": "stream",
     "text": [
      "/scratch/hm62/hl4138/polybert-venv/lib/python3.9/site-packages/transformers/tokenization_utils_base.py:1601: FutureWarning: `clean_up_tokenization_spaces` was not set. It will be set to `True` by default. This behavior will be depracted in transformers v4.45, and will be then set to `False` by default. For more details check this issue: https://github.com/huggingface/transformers/issues/31884\n",
      "  warnings.warn(\n",
      "Some weights of DebertaV2ForMaskedLM were not initialized from the model checkpoint at kuelumbus/polyBERT and are newly initialized: ['cls.predictions.bias', 'cls.predictions.decoder.bias', 'cls.predictions.transform.LayerNorm.bias', 'cls.predictions.transform.LayerNorm.weight', 'cls.predictions.transform.dense.bias', 'cls.predictions.transform.dense.weight']\n",
      "You should probably TRAIN this model on a down-stream task to be able to use it for predictions and inference.\n"
     ]
    },
    {
     "name": "stdout",
     "output_type": "stream",
     "text": [
      "pretrained F1 Score: 0.012944983818770227\n"
     ]
    }
   ],
   "source": [
    "# Load tokenizer and model\n",
    "tokenizer = AutoTokenizer.from_pretrained('kuelumbus/polyBERT')\n",
    "model = AutoModelForMaskedLM.from_pretrained('kuelumbus/polyBERT').to(device)\n",
    "\n",
    "# size = '1M'\n",
    "# tokenizer = DebertaV2Tokenizer(f\"spm_{size}.model\",f\"spm_{size}.vocab\")\n",
    "# model = DebertaV2ForMaskedLM.from_pretrained(f'model_{size}_final/').to(device)\n",
    "\n",
    "# Set the model to evaluation mode\n",
    "model.eval()\n",
    "\n",
    "# Mask 15% of tokens of each string in test data\n",
    "masked_psmiles, ground_truth = create_masked_test_set(tokenizer,psmiles_strings)\n",
    "\n",
    "# Tokenize the sentences\n",
    "inputs = tokenizer(masked_psmiles, return_tensors='pt', padding=True)\n",
    "inputs = inputs.to(device)\n",
    "\n",
    "# Run inference to get predictions for masked tokens\n",
    "with torch.no_grad():\n",
    "    outputs = model(**inputs)\n",
    "    predictions = outputs.logits\n",
    "\n",
    "# Get the predicted token IDs for the masked positions\n",
    "masked_indices = (inputs.input_ids == tokenizer.mask_token_id).nonzero(as_tuple=True)\n",
    "predicted_token_ids = predictions[masked_indices].argmax(dim=-1)\n",
    "\n",
    "# Convert predicted token IDs back to words\n",
    "predicted_tokens = tokenizer.convert_ids_to_tokens(predicted_token_ids)\n",
    "\n",
    "# Convert true tokens to token IDs\n",
    "true_token_ids = tokenizer.convert_tokens_to_ids(ground_truth)\n",
    "\n",
    "# Compute F1 score (using token IDs for comparison)\n",
    "f1 = f1_score(true_token_ids, predicted_token_ids.cpu().numpy(), average='micro')\n",
    "\n",
    "print(f\"pretrained F1 Score: {f1}\")"
   ]
  },
  {
   "cell_type": "code",
   "execution_count": 5,
   "metadata": {},
   "outputs": [
    {
     "name": "stderr",
     "output_type": "stream",
     "text": [
      "Some weights of DebertaV2ForMaskedLM were not initialized from the model checkpoint at kuelumbus/polyBERT and are newly initialized: ['cls.predictions.bias', 'cls.predictions.decoder.bias', 'cls.predictions.transform.LayerNorm.bias', 'cls.predictions.transform.LayerNorm.weight', 'cls.predictions.transform.dense.bias', 'cls.predictions.transform.dense.weight']\n",
      "You should probably TRAIN this model on a down-stream task to be able to use it for predictions and inference.\n"
     ]
    },
    {
     "name": "stdout",
     "output_type": "stream",
     "text": [
      "pretrained1M F1 Score: 0.005742411812961444\n"
     ]
    },
    {
     "name": "stderr",
     "output_type": "stream",
     "text": [
      "/scratch/hm62/hl4138/polybert-venv/lib/python3.9/site-packages/transformers/tokenization_utils_base.py:1601: FutureWarning: `clean_up_tokenization_spaces` was not set. It will be set to `True` by default. This behavior will be depracted in transformers v4.45, and will be then set to `False` by default. For more details check this issue: https://github.com/huggingface/transformers/issues/31884\n",
      "  warnings.warn(\n"
     ]
    }
   ],
   "source": [
    "# Load tokenizer and model\n",
    "model = DebertaV2ForMaskedLM.from_pretrained('kuelumbus/polyBERT').to(device)\n",
    "tokenizer = DebertaV2Tokenizer.from_pretrained('kuelumbus/polyBERT')\n",
    "# tokenizer = DebertaV2Tokenizer(f\"spm_{size}.model\",f\"spm_{size}.vocab\")\n",
    "# model = DebertaV2ForMaskedLM.from_pretrained(f'model_{size}_final/').to(device)\n",
    "\n",
    "# Set the model to evaluation mode\n",
    "model.eval()\n",
    "\n",
    "# Mask 15% of tokens of each string in test data\n",
    "masked_psmiles, ground_truth = create_masked_test_set(tokenizer,psmiles_strings)\n",
    "\n",
    "# Tokenize the sentences\n",
    "inputs = tokenizer(masked_psmiles, return_tensors='pt', padding=True)\n",
    "inputs = inputs.to(device)\n",
    "\n",
    "# Run inference to get predictions for masked tokens\n",
    "with torch.no_grad():\n",
    "    outputs = model(**inputs)\n",
    "    predictions = outputs.logits\n",
    "\n",
    "# Get the predicted token IDs for the masked positions\n",
    "masked_indices = (inputs.input_ids == tokenizer.mask_token_id).nonzero(as_tuple=True)\n",
    "predicted_token_ids = predictions[masked_indices].argmax(dim=-1)\n",
    "\n",
    "# Convert predicted token IDs back to words\n",
    "predicted_tokens = tokenizer.convert_ids_to_tokens(predicted_token_ids)\n",
    "\n",
    "# Convert true tokens to token IDs\n",
    "true_token_ids = tokenizer.convert_tokens_to_ids(ground_truth)\n",
    "\n",
    "# Compute F1 score (using token IDs for comparison)\n",
    "f1 = f1_score(true_token_ids, predicted_token_ids.cpu().numpy(), average='micro')\n",
    "\n",
    "print(f\"pretrained1M F1 Score: {f1}\")"
   ]
  },
  {
   "cell_type": "code",
   "execution_count": 6,
   "metadata": {},
   "outputs": [
    {
     "name": "stderr",
     "output_type": "stream",
     "text": [
      "/scratch/hm62/hl4138/polybert-venv/lib/python3.9/site-packages/transformers/tokenization_utils_base.py:1601: FutureWarning: `clean_up_tokenization_spaces` was not set. It will be set to `True` by default. This behavior will be depracted in transformers v4.45, and will be then set to `False` by default. For more details check this issue: https://github.com/huggingface/transformers/issues/31884\n",
      "  warnings.warn(\n"
     ]
    },
    {
     "name": "stdout",
     "output_type": "stream",
     "text": [
      "pretrained1M F1 Score: 0.5572263993316625\n"
     ]
    }
   ],
   "source": [
    "# Load tokenizer and model\n",
    "# model = DebertaV2ForMaskedLM.from_pretrained('kuelumbus/polyBERT').to(device)\n",
    "# tokenizer = DebertaV2Tokenizer.from_pretrained('kuelumbus/polyBERT')\n",
    "size='1M'\n",
    "tokenizer = DebertaV2Tokenizer(f\"spm_{size}.model\",f\"spm_{size}.vocab\")\n",
    "model = DebertaV2ForMaskedLM.from_pretrained(f'model_{size}_final/').to(device)\n",
    "\n",
    "# Set the model to evaluation mode\n",
    "model.eval()\n",
    "\n",
    "# Mask 15% of tokens of each string in test data\n",
    "masked_psmiles, ground_truth = create_masked_test_set(tokenizer,psmiles_strings)\n",
    "\n",
    "# Tokenize the sentences\n",
    "inputs = tokenizer(masked_psmiles, return_tensors='pt', padding=True)\n",
    "inputs = inputs.to(device)\n",
    "\n",
    "# Run inference to get predictions for masked tokens\n",
    "with torch.no_grad():\n",
    "    outputs = model(**inputs)\n",
    "    predictions = outputs.logits\n",
    "\n",
    "# Get the predicted token IDs for the masked positions\n",
    "masked_indices = (inputs.input_ids == tokenizer.mask_token_id).nonzero(as_tuple=True)\n",
    "predicted_token_ids = predictions[masked_indices].argmax(dim=-1)\n",
    "\n",
    "# Convert predicted token IDs back to words\n",
    "predicted_tokens = tokenizer.convert_ids_to_tokens(predicted_token_ids)\n",
    "\n",
    "# Convert true tokens to token IDs\n",
    "true_token_ids = tokenizer.convert_tokens_to_ids(ground_truth)\n",
    "\n",
    "# Compute F1 score (using token IDs for comparison)\n",
    "f1 = f1_score(true_token_ids, predicted_token_ids.cpu().numpy(), average='micro')\n",
    "\n",
    "print(f\"pretrained1M F1 Score: {f1}\")"
   ]
  },
  {
   "cell_type": "code",
   "execution_count": 7,
   "metadata": {},
   "outputs": [
    {
     "name": "stderr",
     "output_type": "stream",
     "text": [
      "/scratch/hm62/hl4138/polybert-venv/lib/python3.9/site-packages/transformers/tokenization_utils_base.py:1601: FutureWarning: `clean_up_tokenization_spaces` was not set. It will be set to `True` by default. This behavior will be depracted in transformers v4.45, and will be then set to `False` by default. For more details check this issue: https://github.com/huggingface/transformers/issues/31884\n",
      "  warnings.warn(\n"
     ]
    },
    {
     "name": "stdout",
     "output_type": "stream",
     "text": [
      "pretrained1M F1 Score: 0.509976057462091\n"
     ]
    }
   ],
   "source": [
    "# Load tokenizer and model\n",
    "# model = DebertaV2ForMaskedLM.from_pretrained('kuelumbus/polyBERT').to(device)\n",
    "# tokenizer = DebertaV2Tokenizer.from_pretrained('kuelumbus/polyBERT')\n",
    "size='5M'\n",
    "tokenizer = DebertaV2Tokenizer(f\"spm_{size}.model\",f\"spm_{size}.vocab\")\n",
    "model = DebertaV2ForMaskedLM.from_pretrained(f'model_{size}_final/').to(device)\n",
    "\n",
    "# Set the model to evaluation mode\n",
    "model.eval()\n",
    "\n",
    "# Mask 15% of tokens of each string in test data\n",
    "masked_psmiles, ground_truth = create_masked_test_set(tokenizer,psmiles_strings)\n",
    "\n",
    "# Tokenize the sentences\n",
    "inputs = tokenizer(masked_psmiles, return_tensors='pt', padding=True)\n",
    "inputs = inputs.to(device)\n",
    "\n",
    "# Run inference to get predictions for masked tokens\n",
    "with torch.no_grad():\n",
    "    outputs = model(**inputs)\n",
    "    predictions = outputs.logits\n",
    "\n",
    "# Get the predicted token IDs for the masked positions\n",
    "masked_indices = (inputs.input_ids == tokenizer.mask_token_id).nonzero(as_tuple=True)\n",
    "predicted_token_ids = predictions[masked_indices].argmax(dim=-1)\n",
    "\n",
    "# Convert predicted token IDs back to words\n",
    "predicted_tokens = tokenizer.convert_ids_to_tokens(predicted_token_ids)\n",
    "\n",
    "# Convert true tokens to token IDs\n",
    "true_token_ids = tokenizer.convert_tokens_to_ids(ground_truth)\n",
    "\n",
    "# Compute F1 score (using token IDs for comparison)\n",
    "f1 = f1_score(true_token_ids, predicted_token_ids.cpu().numpy(), average='micro')\n",
    "\n",
    "print(f\"pretrained1M F1 Score: {f1}\")"
   ]
  },
  {
   "cell_type": "code",
   "execution_count": null,
   "metadata": {},
   "outputs": [],
   "source": []
  }
 ],
 "metadata": {
  "kernelspec": {
   "display_name": "Python 3 (ipykernel)",
   "language": "python",
   "name": "python3"
  },
  "language_info": {
   "codemirror_mode": {
    "name": "ipython",
    "version": 3
   },
   "file_extension": ".py",
   "mimetype": "text/x-python",
   "name": "python",
   "nbconvert_exporter": "python",
   "pygments_lexer": "ipython3",
   "version": "3.9.2"
  }
 },
 "nbformat": 4,
 "nbformat_minor": 4
}
